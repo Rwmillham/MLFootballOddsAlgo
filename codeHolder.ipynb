{
 "cells": [
  {
   "cell_type": "code",
   "execution_count": null,
   "id": "7ee43995",
   "metadata": {},
   "outputs": [],
   "source": [
    "#options used later to simplify arguments\n",
    "# Set up headless browser which stops any GUI from apearing\n",
    "options = Options()\n",
    "options.add_argument('--headless')\n",
    "#stops Graphics processing unit from rendering the web content\n",
    "options.add_argument('--disable-gpu')\n",
    "\n",
    "#sets up remote control interface to instruct the behavior of web browsers\n",
    "#basically sets up functionallity to scrape web\n",
    "driver = webdriver.Chrome(options=options)\n",
    "def getDataFrame(year, statArr):\n",
    "    all_stat_dfs = []\n",
    "    rowsArr = []\n",
    "    headersArr = []\n",
    "    for stat in statArr:\n",
    "        url = f'https://www.nfl.com/stats/team-stats/offense/{stat}/{year}/reg/all'\n",
    "        driver.get(url)\n",
    "\n",
    "        time.sleep(2)\n",
    "        #reads through page\n",
    "        soup = BeautifulSoup(driver.page_source, 'html.parser')\n",
    "        table = soup.find('table')\n",
    "        #strips *table header* elements\n",
    "        headers = [th.text.strip() for th in table.find_all('th')]\n",
    "        headersArr.append(headers)\n",
    "        #strips all rows for each team\n",
    "        rows = []\n",
    "        for row in table.find_all('tr')[1:]:\n",
    "            #td holds info, tr is the stucture\n",
    "            cols = [td.text.strip() for td in row.find_all('td')]\n",
    "            if cols:\n",
    "                rows.append(cols)\n",
    "        df_stat = pd.DataFrame(rows, columns=headers)\n",
    "        #makes lard dataframe that will soon be condensed into one\n",
    "        all_stat_dfs.append(df_stat)\n",
    "    #should always be the same\n",
    "    print(len(headers), len(rows[0]))\n",
    "    #getting the condesed dataframe and return it \n",
    "    df_merged = reduce(lambda left, right: pd.merge(left, right, on='Team'), all_stat_dfs)\n",
    "    return df_merged\n",
    "\n",
    "offensiveStats2020 = getDataFrame(2020, offensiveStatsArr)\n",
    "defensiveStats2020 = getDataFrame(2020, defensiveStatsArr)\n",
    "STStats2020 = getDataFrame(2020, STStatsArr)\n",
    "\n"
   ]
  }
 ],
 "metadata": {
  "language_info": {
   "name": "python"
  }
 },
 "nbformat": 4,
 "nbformat_minor": 5
}
